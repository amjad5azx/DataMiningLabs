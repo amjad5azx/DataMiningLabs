{
  "nbformat": 4,
  "nbformat_minor": 0,
  "metadata": {
    "colab": {
      "provenance": []
    },
    "kernelspec": {
      "name": "python3",
      "display_name": "Python 3"
    },
    "language_info": {
      "name": "python"
    }
  },
  "cells": [
    {
      "cell_type": "code",
      "execution_count": 1,
      "metadata": {
        "id": "P-3GRVyvYCpr"
      },
      "outputs": [],
      "source": [
        "#importing important libraries\n",
        "from sklearn.model_selection import train_test_split # Import train_test_split function\n",
        "from sklearn import metrics #Import scikit-learn metrics module for accuracy calculation\n",
        "import pandas as pd\n",
        "import numpy as np\n",
        "from keras.models import Sequential\n",
        "from keras.layers import Dense\n",
        "from sklearn.datasets import load_iris\n"
      ]
    },
    {
      "cell_type": "code",
      "source": [
        "# Load the iris dataset\n",
        "iris = load_iris()\n",
        "\n",
        "# Create a DataFrame from the iris dataset\n",
        "df = pd.DataFrame(data=iris.data, columns=iris.feature_names)\n",
        "df['target'] = iris.target_names[iris.target]\n",
        "\n",
        "# Display the first five rows of the DataFrame\n",
        "print(df.head())"
      ],
      "metadata": {
        "colab": {
          "base_uri": "https://localhost:8080/"
        },
        "id": "dL9MOLcjYUU3",
        "outputId": "ef58a914-7d7e-45b3-caf7-1c5ffe4b6982"
      },
      "execution_count": 2,
      "outputs": [
        {
          "output_type": "stream",
          "name": "stdout",
          "text": [
            "   sepal length (cm)  sepal width (cm)  petal length (cm)  petal width (cm)  \\\n",
            "0                5.1               3.5                1.4               0.2   \n",
            "1                4.9               3.0                1.4               0.2   \n",
            "2                4.7               3.2                1.3               0.2   \n",
            "3                4.6               3.1                1.5               0.2   \n",
            "4                5.0               3.6                1.4               0.2   \n",
            "\n",
            "   target  \n",
            "0  setosa  \n",
            "1  setosa  \n",
            "2  setosa  \n",
            "3  setosa  \n",
            "4  setosa  \n"
          ]
        }
      ]
    },
    {
      "cell_type": "code",
      "source": [
        "X = iris.data\n",
        "y = iris.target"
      ],
      "metadata": {
        "id": "a63Yd6bwYntA"
      },
      "execution_count": 3,
      "outputs": []
    },
    {
      "cell_type": "code",
      "source": [
        "#scaling the data\n",
        "from sklearn.preprocessing import scale\n",
        "X = scale(X)\n",
        "\n"
      ],
      "metadata": {
        "id": "jAkeoCv-Yvnl"
      },
      "execution_count": 4,
      "outputs": []
    },
    {
      "cell_type": "code",
      "source": [
        "#spiltting data into train and test\n",
        "X_train, X_test, y_train, y_test = train_test_split(X, y, test_size=0.33, random_state=2)\n"
      ],
      "metadata": {
        "id": "xOBVPzPFY1VK"
      },
      "execution_count": 5,
      "outputs": []
    },
    {
      "cell_type": "code",
      "source": [
        "#one hot encoding\n",
        "from keras.utils import np_utils\n",
        "y_train = np_utils.to_categorical(y_train)\n"
      ],
      "metadata": {
        "id": "eKZiBIb4Y5Hm"
      },
      "execution_count": 6,
      "outputs": []
    },
    {
      "cell_type": "code",
      "source": [
        "#Defining and desining neural network model\n",
        "# Create a neural network model\n",
        "model = Sequential()\n",
        "model.add(Dense(units=10, activation='relu', input_shape=(4,)))\n",
        "model.add(Dense(units=10, activation='relu'))\n",
        "model.add(Dense(units=3, activation='softmax'))\n"
      ],
      "metadata": {
        "id": "pw63aQQfY7QS"
      },
      "execution_count": 18,
      "outputs": []
    },
    {
      "cell_type": "code",
      "source": [
        "# Compiling model\n",
        "model.compile(loss='binary_crossentropy', metrics=['accuracy'])\n"
      ],
      "metadata": {
        "id": "XsL2uTOwY-jD"
      },
      "execution_count": 19,
      "outputs": []
    },
    {
      "cell_type": "code",
      "source": [
        "# training model\n",
        "model.fit(X_train, y_train, epochs=150, batch_size=10)\n"
      ],
      "metadata": {
        "colab": {
          "base_uri": "https://localhost:8080/"
        },
        "id": "vhm5f6C3ZBBZ",
        "outputId": "382d09bd-a0c9-475a-b410-d917e3ef0a12"
      },
      "execution_count": 20,
      "outputs": [
        {
          "output_type": "stream",
          "name": "stdout",
          "text": [
            "Epoch 1/150\n",
            "10/10 [==============================] - 1s 3ms/step - loss: 0.6972 - accuracy: 0.3200\n",
            "Epoch 2/150\n",
            "10/10 [==============================] - 0s 2ms/step - loss: 0.6753 - accuracy: 0.4400\n",
            "Epoch 3/150\n",
            "10/10 [==============================] - 0s 2ms/step - loss: 0.6587 - accuracy: 0.5700\n",
            "Epoch 4/150\n",
            "10/10 [==============================] - 0s 2ms/step - loss: 0.6430 - accuracy: 0.6500\n",
            "Epoch 5/150\n",
            "10/10 [==============================] - 0s 3ms/step - loss: 0.6270 - accuracy: 0.6800\n",
            "Epoch 6/150\n",
            "10/10 [==============================] - 0s 2ms/step - loss: 0.6109 - accuracy: 0.6900\n",
            "Epoch 7/150\n",
            "10/10 [==============================] - 0s 2ms/step - loss: 0.5945 - accuracy: 0.7000\n",
            "Epoch 8/150\n",
            "10/10 [==============================] - 0s 3ms/step - loss: 0.5775 - accuracy: 0.6800\n",
            "Epoch 9/150\n",
            "10/10 [==============================] - 0s 2ms/step - loss: 0.5604 - accuracy: 0.6800\n",
            "Epoch 10/150\n",
            "10/10 [==============================] - 0s 2ms/step - loss: 0.5432 - accuracy: 0.7100\n",
            "Epoch 11/150\n",
            "10/10 [==============================] - 0s 3ms/step - loss: 0.5254 - accuracy: 0.7500\n",
            "Epoch 12/150\n",
            "10/10 [==============================] - 0s 2ms/step - loss: 0.5081 - accuracy: 0.7500\n",
            "Epoch 13/150\n",
            "10/10 [==============================] - 0s 2ms/step - loss: 0.4909 - accuracy: 0.7700\n",
            "Epoch 14/150\n",
            "10/10 [==============================] - 0s 3ms/step - loss: 0.4741 - accuracy: 0.7700\n",
            "Epoch 15/150\n",
            "10/10 [==============================] - 0s 3ms/step - loss: 0.4575 - accuracy: 0.7900\n",
            "Epoch 16/150\n",
            "10/10 [==============================] - 0s 2ms/step - loss: 0.4413 - accuracy: 0.7900\n",
            "Epoch 17/150\n",
            "10/10 [==============================] - 0s 3ms/step - loss: 0.4259 - accuracy: 0.8000\n",
            "Epoch 18/150\n",
            "10/10 [==============================] - 0s 3ms/step - loss: 0.4111 - accuracy: 0.8000\n",
            "Epoch 19/150\n",
            "10/10 [==============================] - 0s 2ms/step - loss: 0.3969 - accuracy: 0.8100\n",
            "Epoch 20/150\n",
            "10/10 [==============================] - 0s 4ms/step - loss: 0.3837 - accuracy: 0.8200\n",
            "Epoch 21/150\n",
            "10/10 [==============================] - 0s 2ms/step - loss: 0.3714 - accuracy: 0.8200\n",
            "Epoch 22/150\n",
            "10/10 [==============================] - 0s 2ms/step - loss: 0.3595 - accuracy: 0.8200\n",
            "Epoch 23/150\n",
            "10/10 [==============================] - 0s 2ms/step - loss: 0.3484 - accuracy: 0.8200\n",
            "Epoch 24/150\n",
            "10/10 [==============================] - 0s 2ms/step - loss: 0.3376 - accuracy: 0.8400\n",
            "Epoch 25/150\n",
            "10/10 [==============================] - 0s 3ms/step - loss: 0.3278 - accuracy: 0.8500\n",
            "Epoch 26/150\n",
            "10/10 [==============================] - 0s 2ms/step - loss: 0.3187 - accuracy: 0.8500\n",
            "Epoch 27/150\n",
            "10/10 [==============================] - 0s 3ms/step - loss: 0.3098 - accuracy: 0.8500\n",
            "Epoch 28/150\n",
            "10/10 [==============================] - 0s 2ms/step - loss: 0.3008 - accuracy: 0.8500\n",
            "Epoch 29/150\n",
            "10/10 [==============================] - 0s 2ms/step - loss: 0.2924 - accuracy: 0.8500\n",
            "Epoch 30/150\n",
            "10/10 [==============================] - 0s 2ms/step - loss: 0.2848 - accuracy: 0.8500\n",
            "Epoch 31/150\n",
            "10/10 [==============================] - 0s 2ms/step - loss: 0.2772 - accuracy: 0.8600\n",
            "Epoch 32/150\n",
            "10/10 [==============================] - 0s 2ms/step - loss: 0.2701 - accuracy: 0.8600\n",
            "Epoch 33/150\n",
            "10/10 [==============================] - 0s 2ms/step - loss: 0.2627 - accuracy: 0.8600\n",
            "Epoch 34/150\n",
            "10/10 [==============================] - 0s 2ms/step - loss: 0.2551 - accuracy: 0.8600\n",
            "Epoch 35/150\n",
            "10/10 [==============================] - 0s 2ms/step - loss: 0.2485 - accuracy: 0.8700\n",
            "Epoch 36/150\n",
            "10/10 [==============================] - 0s 2ms/step - loss: 0.2416 - accuracy: 0.8700\n",
            "Epoch 37/150\n",
            "10/10 [==============================] - 0s 2ms/step - loss: 0.2351 - accuracy: 0.8700\n",
            "Epoch 38/150\n",
            "10/10 [==============================] - 0s 2ms/step - loss: 0.2286 - accuracy: 0.8600\n",
            "Epoch 39/150\n",
            "10/10 [==============================] - 0s 3ms/step - loss: 0.2221 - accuracy: 0.8700\n",
            "Epoch 40/150\n",
            "10/10 [==============================] - 0s 3ms/step - loss: 0.2161 - accuracy: 0.9000\n",
            "Epoch 41/150\n",
            "10/10 [==============================] - 0s 2ms/step - loss: 0.2100 - accuracy: 0.9000\n",
            "Epoch 42/150\n",
            "10/10 [==============================] - 0s 2ms/step - loss: 0.2043 - accuracy: 0.9000\n",
            "Epoch 43/150\n",
            "10/10 [==============================] - 0s 2ms/step - loss: 0.1986 - accuracy: 0.9000\n",
            "Epoch 44/150\n",
            "10/10 [==============================] - 0s 2ms/step - loss: 0.1935 - accuracy: 0.8900\n",
            "Epoch 45/150\n",
            "10/10 [==============================] - 0s 2ms/step - loss: 0.1882 - accuracy: 0.8900\n",
            "Epoch 46/150\n",
            "10/10 [==============================] - 0s 3ms/step - loss: 0.1831 - accuracy: 0.8900\n",
            "Epoch 47/150\n",
            "10/10 [==============================] - 0s 2ms/step - loss: 0.1784 - accuracy: 0.8900\n",
            "Epoch 48/150\n",
            "10/10 [==============================] - 0s 2ms/step - loss: 0.1736 - accuracy: 0.9000\n",
            "Epoch 49/150\n",
            "10/10 [==============================] - 0s 2ms/step - loss: 0.1691 - accuracy: 0.9100\n",
            "Epoch 50/150\n",
            "10/10 [==============================] - 0s 2ms/step - loss: 0.1645 - accuracy: 0.9300\n",
            "Epoch 51/150\n",
            "10/10 [==============================] - 0s 2ms/step - loss: 0.1605 - accuracy: 0.9300\n",
            "Epoch 52/150\n",
            "10/10 [==============================] - 0s 2ms/step - loss: 0.1568 - accuracy: 0.9300\n",
            "Epoch 53/150\n",
            "10/10 [==============================] - 0s 4ms/step - loss: 0.1531 - accuracy: 0.9400\n",
            "Epoch 54/150\n",
            "10/10 [==============================] - 0s 2ms/step - loss: 0.1500 - accuracy: 0.9500\n",
            "Epoch 55/150\n",
            "10/10 [==============================] - 0s 3ms/step - loss: 0.1466 - accuracy: 0.9400\n",
            "Epoch 56/150\n",
            "10/10 [==============================] - 0s 2ms/step - loss: 0.1435 - accuracy: 0.9500\n",
            "Epoch 57/150\n",
            "10/10 [==============================] - 0s 2ms/step - loss: 0.1405 - accuracy: 0.9500\n",
            "Epoch 58/150\n",
            "10/10 [==============================] - 0s 2ms/step - loss: 0.1375 - accuracy: 0.9500\n",
            "Epoch 59/150\n",
            "10/10 [==============================] - 0s 2ms/step - loss: 0.1353 - accuracy: 0.9500\n",
            "Epoch 60/150\n",
            "10/10 [==============================] - 0s 2ms/step - loss: 0.1322 - accuracy: 0.9500\n",
            "Epoch 61/150\n",
            "10/10 [==============================] - 0s 2ms/step - loss: 0.1290 - accuracy: 0.9500\n",
            "Epoch 62/150\n",
            "10/10 [==============================] - 0s 3ms/step - loss: 0.1267 - accuracy: 0.9500\n",
            "Epoch 63/150\n",
            "10/10 [==============================] - 0s 2ms/step - loss: 0.1248 - accuracy: 0.9600\n",
            "Epoch 64/150\n",
            "10/10 [==============================] - 0s 2ms/step - loss: 0.1221 - accuracy: 0.9500\n",
            "Epoch 65/150\n",
            "10/10 [==============================] - 0s 2ms/step - loss: 0.1198 - accuracy: 0.9600\n",
            "Epoch 66/150\n",
            "10/10 [==============================] - 0s 3ms/step - loss: 0.1171 - accuracy: 0.9600\n",
            "Epoch 67/150\n",
            "10/10 [==============================] - 0s 2ms/step - loss: 0.1151 - accuracy: 0.9600\n",
            "Epoch 68/150\n",
            "10/10 [==============================] - 0s 2ms/step - loss: 0.1129 - accuracy: 0.9600\n",
            "Epoch 69/150\n",
            "10/10 [==============================] - 0s 3ms/step - loss: 0.1106 - accuracy: 0.9700\n",
            "Epoch 70/150\n",
            "10/10 [==============================] - 0s 3ms/step - loss: 0.1088 - accuracy: 0.9600\n",
            "Epoch 71/150\n",
            "10/10 [==============================] - 0s 2ms/step - loss: 0.1069 - accuracy: 0.9700\n",
            "Epoch 72/150\n",
            "10/10 [==============================] - 0s 2ms/step - loss: 0.1048 - accuracy: 0.9700\n",
            "Epoch 73/150\n",
            "10/10 [==============================] - 0s 2ms/step - loss: 0.1033 - accuracy: 0.9700\n",
            "Epoch 74/150\n",
            "10/10 [==============================] - 0s 2ms/step - loss: 0.1012 - accuracy: 0.9700\n",
            "Epoch 75/150\n",
            "10/10 [==============================] - 0s 2ms/step - loss: 0.0999 - accuracy: 0.9600\n",
            "Epoch 76/150\n",
            "10/10 [==============================] - 0s 2ms/step - loss: 0.0981 - accuracy: 0.9600\n",
            "Epoch 77/150\n",
            "10/10 [==============================] - 0s 2ms/step - loss: 0.0964 - accuracy: 0.9700\n",
            "Epoch 78/150\n",
            "10/10 [==============================] - 0s 2ms/step - loss: 0.0950 - accuracy: 0.9600\n",
            "Epoch 79/150\n",
            "10/10 [==============================] - 0s 2ms/step - loss: 0.0935 - accuracy: 0.9600\n",
            "Epoch 80/150\n",
            "10/10 [==============================] - 0s 2ms/step - loss: 0.0919 - accuracy: 0.9600\n",
            "Epoch 81/150\n",
            "10/10 [==============================] - 0s 2ms/step - loss: 0.0904 - accuracy: 0.9600\n",
            "Epoch 82/150\n",
            "10/10 [==============================] - 0s 2ms/step - loss: 0.0890 - accuracy: 0.9600\n",
            "Epoch 83/150\n",
            "10/10 [==============================] - 0s 3ms/step - loss: 0.0874 - accuracy: 0.9600\n",
            "Epoch 84/150\n",
            "10/10 [==============================] - 0s 2ms/step - loss: 0.0867 - accuracy: 0.9600\n",
            "Epoch 85/150\n",
            "10/10 [==============================] - 0s 3ms/step - loss: 0.0853 - accuracy: 0.9600\n",
            "Epoch 86/150\n",
            "10/10 [==============================] - 0s 3ms/step - loss: 0.0840 - accuracy: 0.9600\n",
            "Epoch 87/150\n",
            "10/10 [==============================] - 0s 2ms/step - loss: 0.0830 - accuracy: 0.9600\n",
            "Epoch 88/150\n",
            "10/10 [==============================] - 0s 2ms/step - loss: 0.0813 - accuracy: 0.9600\n",
            "Epoch 89/150\n",
            "10/10 [==============================] - 0s 3ms/step - loss: 0.0801 - accuracy: 0.9600\n",
            "Epoch 90/150\n",
            "10/10 [==============================] - 0s 2ms/step - loss: 0.0796 - accuracy: 0.9600\n",
            "Epoch 91/150\n",
            "10/10 [==============================] - 0s 2ms/step - loss: 0.0785 - accuracy: 0.9600\n",
            "Epoch 92/150\n",
            "10/10 [==============================] - 0s 2ms/step - loss: 0.0773 - accuracy: 0.9600\n",
            "Epoch 93/150\n",
            "10/10 [==============================] - 0s 2ms/step - loss: 0.0767 - accuracy: 0.9600\n",
            "Epoch 94/150\n",
            "10/10 [==============================] - 0s 3ms/step - loss: 0.0754 - accuracy: 0.9600\n",
            "Epoch 95/150\n",
            "10/10 [==============================] - 0s 3ms/step - loss: 0.0747 - accuracy: 0.9600\n",
            "Epoch 96/150\n",
            "10/10 [==============================] - 0s 2ms/step - loss: 0.0738 - accuracy: 0.9600\n",
            "Epoch 97/150\n",
            "10/10 [==============================] - 0s 3ms/step - loss: 0.0730 - accuracy: 0.9600\n",
            "Epoch 98/150\n",
            "10/10 [==============================] - 0s 3ms/step - loss: 0.0722 - accuracy: 0.9600\n",
            "Epoch 99/150\n",
            "10/10 [==============================] - 0s 3ms/step - loss: 0.0711 - accuracy: 0.9600\n",
            "Epoch 100/150\n",
            "10/10 [==============================] - 0s 3ms/step - loss: 0.0708 - accuracy: 0.9600\n",
            "Epoch 101/150\n",
            "10/10 [==============================] - 0s 3ms/step - loss: 0.0699 - accuracy: 0.9600\n",
            "Epoch 102/150\n",
            "10/10 [==============================] - 0s 3ms/step - loss: 0.0687 - accuracy: 0.9600\n",
            "Epoch 103/150\n",
            "10/10 [==============================] - 0s 2ms/step - loss: 0.0686 - accuracy: 0.9600\n",
            "Epoch 104/150\n",
            "10/10 [==============================] - 0s 2ms/step - loss: 0.0678 - accuracy: 0.9600\n",
            "Epoch 105/150\n",
            "10/10 [==============================] - 0s 2ms/step - loss: 0.0673 - accuracy: 0.9600\n",
            "Epoch 106/150\n",
            "10/10 [==============================] - 0s 2ms/step - loss: 0.0666 - accuracy: 0.9600\n",
            "Epoch 107/150\n",
            "10/10 [==============================] - 0s 3ms/step - loss: 0.0659 - accuracy: 0.9600\n",
            "Epoch 108/150\n",
            "10/10 [==============================] - 0s 3ms/step - loss: 0.0653 - accuracy: 0.9600\n",
            "Epoch 109/150\n",
            "10/10 [==============================] - 0s 2ms/step - loss: 0.0650 - accuracy: 0.9600\n",
            "Epoch 110/150\n",
            "10/10 [==============================] - 0s 2ms/step - loss: 0.0638 - accuracy: 0.9600\n",
            "Epoch 111/150\n",
            "10/10 [==============================] - 0s 3ms/step - loss: 0.0632 - accuracy: 0.9600\n",
            "Epoch 112/150\n",
            "10/10 [==============================] - 0s 3ms/step - loss: 0.0633 - accuracy: 0.9600\n",
            "Epoch 113/150\n",
            "10/10 [==============================] - 0s 2ms/step - loss: 0.0622 - accuracy: 0.9600\n",
            "Epoch 114/150\n",
            "10/10 [==============================] - 0s 3ms/step - loss: 0.0614 - accuracy: 0.9600\n",
            "Epoch 115/150\n",
            "10/10 [==============================] - 0s 4ms/step - loss: 0.0611 - accuracy: 0.9600\n",
            "Epoch 116/150\n",
            "10/10 [==============================] - 0s 2ms/step - loss: 0.0604 - accuracy: 0.9600\n",
            "Epoch 117/150\n",
            "10/10 [==============================] - 0s 3ms/step - loss: 0.0606 - accuracy: 0.9600\n",
            "Epoch 118/150\n",
            "10/10 [==============================] - 0s 2ms/step - loss: 0.0593 - accuracy: 0.9600\n",
            "Epoch 119/150\n",
            "10/10 [==============================] - 0s 3ms/step - loss: 0.0589 - accuracy: 0.9600\n",
            "Epoch 120/150\n",
            "10/10 [==============================] - 0s 3ms/step - loss: 0.0588 - accuracy: 0.9600\n",
            "Epoch 121/150\n",
            "10/10 [==============================] - 0s 2ms/step - loss: 0.0580 - accuracy: 0.9600\n",
            "Epoch 122/150\n",
            "10/10 [==============================] - 0s 2ms/step - loss: 0.0578 - accuracy: 0.9600\n",
            "Epoch 123/150\n",
            "10/10 [==============================] - 0s 2ms/step - loss: 0.0575 - accuracy: 0.9600\n",
            "Epoch 124/150\n",
            "10/10 [==============================] - 0s 3ms/step - loss: 0.0569 - accuracy: 0.9600\n",
            "Epoch 125/150\n",
            "10/10 [==============================] - 0s 2ms/step - loss: 0.0564 - accuracy: 0.9600\n",
            "Epoch 126/150\n",
            "10/10 [==============================] - 0s 2ms/step - loss: 0.0567 - accuracy: 0.9600\n",
            "Epoch 127/150\n",
            "10/10 [==============================] - 0s 3ms/step - loss: 0.0558 - accuracy: 0.9600\n",
            "Epoch 128/150\n",
            "10/10 [==============================] - 0s 2ms/step - loss: 0.0552 - accuracy: 0.9600\n",
            "Epoch 129/150\n",
            "10/10 [==============================] - 0s 3ms/step - loss: 0.0546 - accuracy: 0.9600\n",
            "Epoch 130/150\n",
            "10/10 [==============================] - 0s 3ms/step - loss: 0.0545 - accuracy: 0.9600\n",
            "Epoch 131/150\n",
            "10/10 [==============================] - 0s 3ms/step - loss: 0.0543 - accuracy: 0.9600\n",
            "Epoch 132/150\n",
            "10/10 [==============================] - 0s 3ms/step - loss: 0.0535 - accuracy: 0.9600\n",
            "Epoch 133/150\n",
            "10/10 [==============================] - 0s 3ms/step - loss: 0.0531 - accuracy: 0.9600\n",
            "Epoch 134/150\n",
            "10/10 [==============================] - 0s 3ms/step - loss: 0.0536 - accuracy: 0.9600\n",
            "Epoch 135/150\n",
            "10/10 [==============================] - 0s 3ms/step - loss: 0.0536 - accuracy: 0.9600\n",
            "Epoch 136/150\n",
            "10/10 [==============================] - 0s 2ms/step - loss: 0.0526 - accuracy: 0.9600\n",
            "Epoch 137/150\n",
            "10/10 [==============================] - 0s 2ms/step - loss: 0.0522 - accuracy: 0.9600\n",
            "Epoch 138/150\n",
            "10/10 [==============================] - 0s 2ms/step - loss: 0.0522 - accuracy: 0.9600\n",
            "Epoch 139/150\n",
            "10/10 [==============================] - 0s 3ms/step - loss: 0.0525 - accuracy: 0.9600\n",
            "Epoch 140/150\n",
            "10/10 [==============================] - 0s 2ms/step - loss: 0.0512 - accuracy: 0.9600\n",
            "Epoch 141/150\n",
            "10/10 [==============================] - 0s 2ms/step - loss: 0.0513 - accuracy: 0.9600\n",
            "Epoch 142/150\n",
            "10/10 [==============================] - 0s 2ms/step - loss: 0.0512 - accuracy: 0.9600\n",
            "Epoch 143/150\n",
            "10/10 [==============================] - 0s 3ms/step - loss: 0.0505 - accuracy: 0.9600\n",
            "Epoch 144/150\n",
            "10/10 [==============================] - 0s 3ms/step - loss: 0.0505 - accuracy: 0.9600\n",
            "Epoch 145/150\n",
            "10/10 [==============================] - 0s 4ms/step - loss: 0.0499 - accuracy: 0.9600\n",
            "Epoch 146/150\n",
            "10/10 [==============================] - 0s 2ms/step - loss: 0.0498 - accuracy: 0.9600\n",
            "Epoch 147/150\n",
            "10/10 [==============================] - 0s 4ms/step - loss: 0.0504 - accuracy: 0.9600\n",
            "Epoch 148/150\n",
            "10/10 [==============================] - 0s 3ms/step - loss: 0.0496 - accuracy: 0.9600\n",
            "Epoch 149/150\n",
            "10/10 [==============================] - 0s 3ms/step - loss: 0.0488 - accuracy: 0.9600\n",
            "Epoch 150/150\n",
            "10/10 [==============================] - 0s 3ms/step - loss: 0.0491 - accuracy: 0.9600\n"
          ]
        },
        {
          "output_type": "execute_result",
          "data": {
            "text/plain": [
              "<keras.callbacks.History at 0x7f26014c3490>"
            ]
          },
          "metadata": {},
          "execution_count": 20
        }
      ]
    },
    {
      "cell_type": "code",
      "source": [
        "#prediction and evalution\n",
        "from sklearn.metrics import accuracy_score\n",
        "y_pred = model.predict(X_test)\n",
        "y_pred = np.argmax(y_pred, axis=1)\n",
        "accuracy_score(y_test, y_pred)\n"
      ],
      "metadata": {
        "colab": {
          "base_uri": "https://localhost:8080/"
        },
        "id": "EAxlDEJ1ZEdt",
        "outputId": "bef931a9-44bb-40ab-8ee6-f2c97744e8df"
      },
      "execution_count": 21,
      "outputs": [
        {
          "output_type": "stream",
          "name": "stdout",
          "text": [
            "2/2 [==============================] - 0s 4ms/step\n"
          ]
        },
        {
          "output_type": "execute_result",
          "data": {
            "text/plain": [
              "0.96"
            ]
          },
          "metadata": {},
          "execution_count": 21
        }
      ]
    }
  ]
}